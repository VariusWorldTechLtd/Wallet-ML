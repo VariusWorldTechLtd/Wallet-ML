{
 "cells": [
  {
   "cell_type": "markdown",
   "metadata": {},
   "source": [
    "# Machine Learning Documentation"
   ]
  },
  {
   "cell_type": "markdown",
   "metadata": {},
   "source": [
    "This notebook provides the documentation for the machine learning code that has been tested for the VoX Wallet ML system."
   ]
  },
  {
   "cell_type": "markdown",
   "metadata": {},
   "source": [
    "## Structure"
   ]
  },
  {
   "cell_type": "markdown",
   "metadata": {},
   "source": [
    "The Machine Learning folder is split into subfolders that tie together to put a machine learning algorith innto production. It has the following subfolders:\n",
    "\n",
    "- Models (For main development of algorithms)\n",
    "- container (All code to create Docker container and deploy)\n",
    "- data (Data used in order to train the dockerised container)"
   ]
  },
  {
   "cell_type": "markdown",
   "metadata": {},
   "source": [
    "## Models"
   ]
  },
  {
   "cell_type": "markdown",
   "metadata": {},
   "source": [
    "The machine learning techniques within the notebook have been categorised by two diffrent groupings."
   ]
  },
  {
   "cell_type": "markdown",
   "metadata": {},
   "source": [
    "- Supervised Learning\n",
    "- Unsupervised Learning"
   ]
  },
  {
   "cell_type": "markdown",
   "metadata": {},
   "source": [
    "### Supervised Learning"
   ]
  },
  {
   "cell_type": "markdown",
   "metadata": {},
   "source": [
    "Supervised learning techniques rely on labelled data "
   ]
  },
  {
   "cell_type": "markdown",
   "metadata": {},
   "source": [
    "### Unsupervised Learning"
   ]
  },
  {
   "cell_type": "markdown",
   "metadata": {},
   "source": [
    "Unsupervised learning techniques run without any labelled data, avoiding the tedious taks needed to label data. We wish to use of unsupervised learning for seperating data into gambling risk groups."
   ]
  },
  {
   "cell_type": "markdown",
   "metadata": {},
   "source": [
    "VWT wishes to use unsupervised learning as a method of seperating users into risk groupings based on two sets of their data:\n",
    "\n",
    "- Financial & Demographics\n",
    "- Gambling Behaviour\n",
    "\n",
    "Unsupervised learning is a type of machine learning algorithm used to draw inferences from datasets consisting of input data without labeled responses.\n",
    "\n",
    "For the VWT ML System unsupervised learning will be used in the re-training process for classifying new data that needs to be labeled before the model can be retrained\n",
    "\n",
    "There are several types of unsupervised learning algorithms:\n",
    "\n",
    "- K-means Clustering"
   ]
  },
  {
   "cell_type": "markdown",
   "metadata": {},
   "source": [
    "#### K-means Clustering"
   ]
  },
  {
   "cell_type": "markdown",
   "metadata": {},
   "source": [
    "## Container"
   ]
  },
  {
   "cell_type": "markdown",
   "metadata": {},
   "source": [
    "## Data"
   ]
  },
  {
   "cell_type": "code",
   "execution_count": null,
   "metadata": {},
   "outputs": [],
   "source": []
  }
 ],
 "metadata": {
  "kernelspec": {
   "display_name": "Python 3",
   "language": "python",
   "name": "python3"
  },
  "language_info": {
   "codemirror_mode": {
    "name": "ipython",
    "version": 3
   },
   "file_extension": ".py",
   "mimetype": "text/x-python",
   "name": "python",
   "nbconvert_exporter": "python",
   "pygments_lexer": "ipython3",
   "version": "3.6.7"
  }
 },
 "nbformat": 4,
 "nbformat_minor": 2
}
