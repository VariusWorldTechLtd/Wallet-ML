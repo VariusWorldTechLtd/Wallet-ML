{
 "cells": [
  {
   "cell_type": "markdown",
   "metadata": {},
   "source": [
    "# Machine Learning Documentation"
   ]
  },
  {
   "cell_type": "markdown",
   "metadata": {},
   "source": [
    "This notebook provides the documentation for the machine learning code that has been tested for the VoX Wallet ML system."
   ]
  },
  {
   "cell_type": "markdown",
   "metadata": {},
   "source": [
    "## Structure"
   ]
  },
  {
   "cell_type": "markdown",
   "metadata": {},
   "source": [
    "The Machine Learning folder is split into subfolders that tie together to put a machine learning algorith innto production. It has the following subfolders:\n",
    "\n",
    "- Models (For main development of algorithms)\n",
    "- container (All code to create Docker container and deploy)\n",
    "- data (Data used in order to train the dockerised container)"
   ]
  },
  {
   "cell_type": "markdown",
   "metadata": {},
   "source": [
    "## Models"
   ]
  },
  {
   "cell_type": "markdown",
   "metadata": {},
   "source": [
    "The machine learning techniques within the notebook have been categorised by two diffrent groupings."
   ]
  },
  {
   "cell_type": "markdown",
   "metadata": {},
   "source": [
    "- Supervised Learning\n",
    "- Unsupervised Learning"
   ]
  },
  {
   "cell_type": "markdown",
   "metadata": {},
   "source": [
    "### Supervised Learning"
   ]
  },
  {
   "cell_type": "markdown",
   "metadata": {},
   "source": [
    "Supervised learning techniques rely on labelled data "
   ]
  },
  {
   "cell_type": "markdown",
   "metadata": {},
   "source": [
    "#### Logistic Regression"
   ]
  },
  {
   "cell_type": "markdown",
   "metadata": {},
   "source": [
    "Logistic Regression is the main machine learning model that credit risk companies use to asses the risk of their customers. Not only does it allow the binary classification of a good or bad risk customer, it also can produce a score variable for each customer. This is valuable for us as we can create a problem gambling risk score, capable of enabling graded intervention models."
   ]
  },
  {
   "cell_type": "markdown",
   "metadata": {},
   "source": [
    "### Random Forest"
   ]
  },
  {
   "cell_type": "markdown",
   "metadata": {},
   "source": [
    "This model is capable of both classification and regression. "
   ]
  },
  {
   "cell_type": "markdown",
   "metadata": {},
   "source": [
    "### Unsupervised Learning"
   ]
  },
  {
   "cell_type": "markdown",
   "metadata": {},
   "source": [
    "Unsupervised learning techniques run without any labelled data, avoiding the tedious taks needed to label data. We wish to use of unsupervised learning for seperating data into gambling risk groups."
   ]
  },
  {
   "cell_type": "markdown",
   "metadata": {},
   "source": [
    "VWT wishes to use unsupervised learning as a method of seperating users into risk groupings based on two sets of their data:\n",
    "\n",
    "- Financial & Demographics\n",
    "- Gambling Behaviour\n",
    "\n",
    "Unsupervised learning is a type of machine learning algorithm used to draw inferences from datasets consisting of input data without labeled responses.\n",
    "\n",
    "For the VWT ML System unsupervised learning will be used in the re-training process for classifying new data that needs to be labeled before the model can be retrained\n",
    "\n",
    "There are several types of unsupervised learning algorithms:\n",
    "\n",
    "- K-means Clustering"
   ]
  },
  {
   "cell_type": "markdown",
   "metadata": {},
   "source": [
    "#### K-means Clustering"
   ]
  },
  {
   "cell_type": "markdown",
   "metadata": {},
   "source": [
    "### Chosen Approach"
   ]
  },
  {
   "cell_type": "markdown",
   "metadata": {},
   "source": [
    "After some thought and time trying different models there were some discoveries into which models were more sensible to use than others.\n",
    "\n",
    "It seems the most suitable approach would be to use a supervised classification model to detect problem gambling. This is because it is difficult to spot patterns between unsupervised clustering models with many variables.\n",
    "\n",
    "On the face of it Logistic Regression seems to be the most sensible model to attempt first. Apart from being the most used model in the credit rating industry, it has the capability of producing a score. However, these models require large amounts of data, which is hard to obtain in the current market.\n",
    "\n",
    "Gaussian processes can work with small data, it is a generative model that predicts patterns when given little data. It is based on the gaussian (normal) distribution, where half of the data are either side of the peak."
   ]
  },
  {
   "cell_type": "markdown",
   "metadata": {},
   "source": [
    "## Container"
   ]
  },
  {
   "cell_type": "markdown",
   "metadata": {},
   "source": [
    "## Data"
   ]
  },
  {
   "cell_type": "markdown",
   "metadata": {},
   "source": [
    "### Feature Selection"
   ]
  },
  {
   "cell_type": "markdown",
   "metadata": {},
   "source": [
    "Before any data was collected there needed to be thought put into what features we wish to obtain. If we were to make a survey for example we would need to know what questions to ask. After the initial questions have been asked we can then perform proper feature selection using data analysis on what features mainly affect problem gambling (perhaps a correlation calculation).\n",
    "\n",
    "The feature selection would differ between the two datasets:\n",
    "\n",
    "- Before deposit\n",
    "- While gambling"
   ]
  },
  {
   "cell_type": "markdown",
   "metadata": {},
   "source": [
    "#### Beofore Deposit"
   ]
  },
  {
   "cell_type": "markdown",
   "metadata": {},
   "source": [
    "Determining initial features to investigate required some research to be done. It was important to start where work had already been done, PWC and GambleAware had already released reports identifying some of the features that they found had a relationship with problem gambling.\n",
    "\n",
    "Beyond this other articles and theses provided more interesting insights into other psychological features that can influence problem gambling. The most influential features will be put into a survey to the consumers for our initial dataset."
   ]
  },
  {
   "cell_type": "markdown",
   "metadata": {},
   "source": [
    "#### While Gambling"
   ]
  },
  {
   "cell_type": "markdown",
   "metadata": {},
   "source": [
    "The while gambling features will be more recognised as determining factors. Again PWC and GambleAware produced documents on their research of feature importance."
   ]
  },
  {
   "cell_type": "markdown",
   "metadata": {},
   "source": [
    "### Survey"
   ]
  },
  {
   "cell_type": "markdown",
   "metadata": {},
   "source": [
    "The survey needs to be engineered to be as effective as possible. Since we are more likely to use supervised learning we will need to collect a target variable from our audience (in our case this will be whether the consumer is a problem gambler). A challenge will therefore be in identifying the target variable, for the purpose of this survey we will include the 9 questions provided by GamCare's PGSI survey used to classify problem gamblers. \n",
    "\n",
    "The results of the survey undergo data preperation. Unwanted columns need to be dropped such as 'Timestamp' and the result of the Privacy Policy agreement. Categorical variables need to be converted into numerical for machine learning to work. The results of the PGSI survey then need to be added to determine whether the surveyee is a problem gambler."
   ]
  },
  {
   "cell_type": "code",
   "execution_count": null,
   "metadata": {},
   "outputs": [],
   "source": []
  }
 ],
 "metadata": {
  "kernelspec": {
   "display_name": "Python 3",
   "language": "python",
   "name": "python3"
  },
  "language_info": {
   "codemirror_mode": {
    "name": "ipython",
    "version": 3
   },
   "file_extension": ".py",
   "mimetype": "text/x-python",
   "name": "python",
   "nbconvert_exporter": "python",
   "pygments_lexer": "ipython3",
   "version": "3.6.7"
  }
 },
 "nbformat": 4,
 "nbformat_minor": 2
}
