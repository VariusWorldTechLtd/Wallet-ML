{
 "cells": [
  {
   "cell_type": "markdown",
   "metadata": {},
   "source": [
    "# Step Functions"
   ]
  },
  {
   "cell_type": "markdown",
   "metadata": {},
   "source": [
    "This document collates and describes the various step functions that are used for updating machine learning models. Throughout the notebook will be the examples and code for Lambda functions which will play certain parts in the updating process."
   ]
  },
  {
   "cell_type": "markdown",
   "metadata": {},
   "source": [
    "### Initialize"
   ]
  },
  {
   "cell_type": "markdown",
   "metadata": {},
   "source": [
    "Firstly we call a Lambda function to initialise the "
   ]
  },
  {
   "cell_type": "raw",
   "metadata": {},
   "source": []
  },
  {
   "cell_type": "markdown",
   "metadata": {},
   "source": [
    "#### Lambda Function"
   ]
  },
  {
   "cell_type": "raw",
   "metadata": {},
   "source": [
    "var aws=require('aws-sdk')\n",
    "aws.config.region=process.env.AWS_REGION \n",
    "var codebuild=new aws.CodeBuild()\n",
    "var ssm=new aws.SSM()\n",
    "\n",
    "\n",
    "\n",
    "\n",
    "exports.handler=(event,context,cb)=>{\n",
    "    console.log(\"EVENT:\",JSON.stringify(event,null,2))\n",
    "    try{\n",
    "        Promise.all([\n",
    "            ssm.getParameter({\n",
    "                Name:process.env.PARAMETERSTORE\n",
    "            }).promise(),\n",
    "            ssm.getParameter({\n",
    "                Name:process.env.VERSIONPARAMETERSTORE\n",
    "            }).promise()\n",
    "        ])\n",
    "        .then(function(results){\n",
    "            console.log(JSON.stringify(results,null,2))\n",
    "            \n",
    "            var params=JSON.parse(results[0].Parameter.Value)\n",
    "            var version=(parseInt(results[1].Parameter.Value)+1).toString()\n",
    "            if(params.TrainingImage){\n",
    "                params.build.Training=false\n",
    "            }\n",
    "            if(params.InferenceImage){\n",
    "                params.build.Inference=false\n",
    "            }\n",
    "            var name=`${params.stackname}-v${version}`\n",
    "            Object.assign(event,params,{\n",
    "                timestamp:new Date(),\n",
    "                version,\n",
    "                id:Date.now().toString(),\n",
    "                name,\n",
    "                TrainingTag:`${name}-Training`,\n",
    "                InferenceTag:`${name}-Inference`\n",
    "            })\n",
    "            cb(null,{\n",
    "                params:event,\n",
    "                args:{\n",
    "                    build:{\n",
    "                        Training:{},\n",
    "                        Inference:{}\n",
    "                    },\n",
    "                    training:{},\n",
    "                    endpoint:{}\n",
    "                },\n",
    "                outputs:{\n",
    "                    build:{\n",
    "                        Training:{},\n",
    "                        Inference:{}\n",
    "                    },\n",
    "                    training:{},\n",
    "                    endpoint:{}\n",
    "                },\n",
    "                status:{\n",
    "                    endpoint:{},\n",
    "                    training:{},\n",
    "                    build:{\n",
    "                        Training:{},\n",
    "                        Inference:{}\n",
    "                    }\n",
    "                }\n",
    "            })\n",
    "        })\n",
    "        .catch(x=>cb(new Error(x)))\n",
    "    }catch(x){\n",
    "        cb(new Error(x))\n",
    "    }\n",
    "}\n",
    "\n",
    "function addZeroBefore(n) {\n",
    "  return (n < 10 ? '0' : '') + n;\n",
    "}"
   ]
  },
  {
   "cell_type": "markdown",
   "metadata": {},
   "source": [
    "### List Models"
   ]
  },
  {
   "cell_type": "markdown",
   "metadata": {},
   "source": [
    "Lists the machine learning models available in SageMaker."
   ]
  },
  {
   "cell_type": "raw",
   "metadata": {},
   "source": []
  },
  {
   "cell_type": "markdown",
   "metadata": {},
   "source": [
    "#### Lambda Function"
   ]
  },
  {
   "cell_type": "raw",
   "metadata": {},
   "source": [
    "var aws=require('aws-sdk')\n",
    "aws.config.region=process.env.AWS_REGION \n",
    "var sagemaker=new aws.SageMaker()\n",
    "\n",
    "exports.handler=(event,context,cb)=>{\n",
    "    console.log(\"EVENT:\",JSON.stringify(event,null,2))\n",
    "    return sagemaker.listModels({\n",
    "        NameContains:event.params.stackname,\n",
    "        SortBy:\"CreationTime\",\n",
    "        SortOrder:\"Descending\"\n",
    "    }).promise()\n",
    "    .then(result=>{\n",
    "        cb(null,result.Models.map(x=>x.ModelName))\n",
    "    })\n",
    "    .catch(x=>cb(new Error(x)))\n",
    "}"
   ]
  },
  {
   "cell_type": "markdown",
   "metadata": {},
   "source": [
    "### If train"
   ]
  },
  {
   "cell_type": "markdown",
   "metadata": {},
   "source": [
    "A choice function depending on whether the step function has chosen to build."
   ]
  },
  {
   "cell_type": "raw",
   "metadata": {},
   "source": [
    "\"IfTrain\":{\"Type\":\"Choice\",\"Choices\":[{\"Variable\":\"$.params.train\",\"BooleanEquals\":true,"
   ]
  },
  {
   "cell_type": "markdown",
   "metadata": {},
   "source": [
    "### Get training config"
   ]
  },
  {
   "cell_type": "markdown",
   "metadata": {},
   "source": [
    "Gets the configuration for the training job."
   ]
  },
  {
   "cell_type": "raw",
   "metadata": {},
   "source": []
  },
  {
   "cell_type": "markdown",
   "metadata": {},
   "source": [
    "#### Lambda Function"
   ]
  },
  {
   "cell_type": "raw",
   "metadata": {},
   "source": [
    "var aws=require('aws-sdk')\n",
    "aws.config.region=process.env.AWS_REGION \n",
    "\n",
    "exports.handler=function(event,context,callback){\n",
    "    console.log(JSON.stringify(event,null,2))\n",
    "\n",
    "    try{\n",
    "        image=event.params.TrainingImage || `${event.params.accountid}.dkr.ecr.${process.env.AWS_REGION}.amazonaws.com/${event.params.ecrrepo}:Training_v${event.params.version}`\n",
    "\n",
    "        var Hyperparameters=Object.assign({\n",
    "            sagemaker_job_name:`\"${event.params.name}-${event.params.id}\"`,\n",
    "            sagemaker_region:`\"${process.env.AWS_REGION}\"`,\n",
    "            checkpoint_path:`\"s3://${event.params.checkpointbucket}/${event.params.name}-${event.params.id}/checkpoints\"`,\n",
    "        },event.params.hyperparameters)\n",
    "\n",
    "        callback(null,{\n",
    "          \"AlgorithmSpecification\": { \n",
    "            \"TrainingImage\":image, \n",
    "            \"TrainingInputMode\":event[\"params\"][\"inputmode\"]\n",
    "          },\n",
    "          \"InputDataConfig\": [ \n",
    "            {\n",
    "              \"ChannelName\": \"training\", \n",
    "              \"DataSource\": { \n",
    "                \"S3DataSource\": { \n",
    "                  \"S3DataType\": \"S3Prefix\", \n",
    "                  \"S3Uri\":`s3://${event['params']['databucket']}/train/`, \n",
    "                  \"S3DataDistributionType\": \"FullyReplicated\" \n",
    "                }\n",
    "              },\n",
    "              \"CompressionType\": \"None\",\n",
    "              \"RecordWrapperType\": \"None\" \n",
    "            },\n",
    "          ],\n",
    "          \"OutputDataConfig\": { \n",
    "            'S3OutputPath':`s3://${event['params']['artifactbucket']}`, \n",
    "          },\n",
    "          \"ResourceConfig\": { \n",
    "            \"InstanceCount\": event[\"params\"][\"traininstancecount\"], \n",
    "            \"InstanceType\": event[\"params\"][\"traininstancetype\"], \n",
    "            \"VolumeSizeInGB\": parseInt(event[\"params\"][\"trainvolumesize\"]), \n",
    "          },\n",
    "          \"RoleArn\":event[\"params\"][\"trainingrole\"], \n",
    "          \"StoppingCondition\": { \n",
    "            \"MaxRuntimeInSeconds\":parseInt(event[\"params\"][\"trainmaxrun\"])*60*60\n",
    "          },\n",
    "          \"TrainingJobName\":`${event.params.name}-${event.params.id}`, \n",
    "          \"HyperParameters\":Hyperparameters,\n",
    "          \"Tags\": []\n",
    "        })\n",
    "    }catch(e){\n",
    "        callback(new Error(e))\n",
    "    }\n",
    "}"
   ]
  },
  {
   "cell_type": "markdown",
   "metadata": {},
   "source": [
    "### Get data config"
   ]
  },
  {
   "cell_type": "markdown",
   "metadata": {},
   "source": [
    "Takes confiruation of the data location."
   ]
  },
  {
   "cell_type": "raw",
   "metadata": {},
   "source": []
  },
  {
   "cell_type": "markdown",
   "metadata": {},
   "source": [
    "#### Lambda Function"
   ]
  },
  {
   "cell_type": "raw",
   "metadata": {},
   "source": [
    "var aws=require('aws-sdk')\n",
    "var s3=new aws.S3()\n",
    "\n",
    "exports.handler=function(event,context,callback){\n",
    "    console.log(JSON.stringify(event,null,2))\n",
    "    try{\n",
    "        var channels=event.params.channels\n",
    "        var out=Object.keys(channels).map(function(key){\n",
    "            var out={\n",
    "              \"ChannelName\":key, \n",
    "              \"DataSource\": { \n",
    "                \"S3DataSource\": { \n",
    "                  \"S3DataType\": \"S3Prefix\", \n",
    "                  \"S3Uri\":`s3://${event.params.databucket}/${channels[key].path}`, \n",
    "                  \"S3DataDistributionType\": channels[key].dist ? \"ShardedByS3Key\"  : \"FullyReplicated\"\n",
    "                }\n",
    "              },\n",
    "              \"CompressionType\": \"None\",\n",
    "              \"RecordWrapperType\": \"None\"\n",
    "            }\n",
    "            if(channels[key].contentType){\n",
    "                out.ContentType=channels[key].contentType\n",
    "            }\n",
    "            return out\n",
    "        })\n",
    "        \n",
    "        callback(null,out)\n",
    "    }catch(e){\n",
    "        console.log(e)\n",
    "        callback(new Error(e))\n",
    "    }\n",
    "}"
   ]
  },
  {
   "cell_type": "markdown",
   "metadata": {},
   "source": [
    "### If build training"
   ]
  },
  {
   "cell_type": "raw",
   "metadata": {},
   "source": [
    "{\"Comment\":\"\",\"StartAt\":\"start\",\"States\":{\"IfBuildTraining\":{\"Type\":\"Choice\",\"Choices\":[{\"Variable\":\"$.params.build.Training\",\"BooleanEquals\":false,"
   ]
  },
  {
   "cell_type": "markdown",
   "metadata": {},
   "source": [
    "### Build image training"
   ]
  },
  {
   "cell_type": "raw",
   "metadata": {},
   "source": []
  },
  {
   "cell_type": "markdown",
   "metadata": {},
   "source": [
    "#### Lambda Function"
   ]
  },
  {
   "cell_type": "raw",
   "metadata": {},
   "source": [
    "var aws=require('aws-sdk')\n",
    "aws.config.region=process.env.AWS_REGION \n",
    "var sagemaker=new aws.SageMaker()\n",
    "\n",
    "exports.handler=(event,context,cb)=>{\n",
    "    console.log(\"EVENT:\",JSON.stringify(event,null,2))\n",
    "    event.args.training.Tags=event.args.training.Tags || []\n",
    "    event.args.training.Tags.push({\n",
    "        Key:\"sagebuild:BuildStack\",\n",
    "        Value:event.params.stackname\n",
    "    })\n",
    "\n",
    "    sagemaker.createTrainingJob(event.args.training).promise()\n",
    "    .then(result=>cb(null,result))\n",
    "    .catch(x=>cb(new Error(x)))\n",
    "}"
   ]
  },
  {
   "cell_type": "markdown",
   "metadata": {},
   "source": [
    "### Wait for training"
   ]
  },
  {
   "cell_type": "raw",
   "metadata": {},
   "source": [
    "\"Next\":\"waitTraining\"},{\"Variable\":\"$.status.build.Training.buildStatus\",\"StringEquals\":\"SUCCEEDED\""
   ]
  },
  {
   "cell_type": "markdown",
   "metadata": {},
   "source": [
    "### Build status training"
   ]
  },
  {
   "cell_type": "markdown",
   "metadata": {},
   "source": [
    "Function that outputs the status of the training."
   ]
  },
  {
   "cell_type": "raw",
   "metadata": {},
   "source": []
  },
  {
   "cell_type": "markdown",
   "metadata": {},
   "source": [
    "#### Lambda Function"
   ]
  },
  {
   "cell_type": "raw",
   "metadata": {},
   "source": [
    "var aws=require('aws-sdk')\n",
    "aws.config.region=process.env.AWS_REGION \n",
    "var codebuild=new aws.CodeBuild()\n",
    "\n",
    "exports.handler=(event,context,cb)=>{\n",
    "    console.log(JSON.stringify(event,null,2))\n",
    "    codebuild.batchGetBuilds({\n",
    "        ids:[event.outputs.build.Training.id] \n",
    "    }).promise()\n",
    "    .then(result=>cb(null,result.builds[0]))\n",
    "    .catch(x=>{\n",
    "        console.log(x)\n",
    "        cb(new Error(x))\n",
    "    })\n",
    "}"
   ]
  },
  {
   "cell_type": "markdown",
   "metadata": {},
   "source": [
    "### Check image training"
   ]
  },
  {
   "cell_type": "raw",
   "metadata": {},
   "source": [
    "\"checkImageTraining\":{\"Type\":\"Choice\",\"Choices\":[{\"Variable\":\"$.status.build.Training.buildStatus\",\"StringEquals\":\"IN_PROGRESS\""
   ]
  },
  {
   "cell_type": "markdown",
   "metadata": {},
   "source": [
    "### End build training"
   ]
  },
  {
   "cell_type": "raw",
   "metadata": {},
   "source": [
    "\"EndBuildTraining\":{\"Type\":\"Pass\","
   ]
  },
  {
   "cell_type": "markdown",
   "metadata": {},
   "source": [
    "### If HPO"
   ]
  },
  {
   "cell_type": "raw",
   "metadata": {},
   "source": [
    "\"IfHPO\":{\"Type\":\"Choice\",\"Choices\":[{\"Variable\":\"$.params.configtrain\",\"StringEquals\":\"SAGEMAKER\","
   ]
  },
  {
   "cell_type": "markdown",
   "metadata": {},
   "source": [
    "### Start HPO"
   ]
  },
  {
   "cell_type": "raw",
   "metadata": {},
   "source": [
    "\"Next\":\"StartHPO\"}],\"Default\":\"StartTraining\"},"
   ]
  },
  {
   "cell_type": "markdown",
   "metadata": {},
   "source": [
    "### Wait for training"
   ]
  },
  {
   "cell_type": "raw",
   "metadata": {},
   "source": [
    "\"waitForTraining\":{\"Type\":\"Wait\",\"Seconds\":30,\"Next\":\"IfHPOStatus\"},"
   ]
  },
  {
   "cell_type": "markdown",
   "metadata": {},
   "source": [
    "### Start training"
   ]
  },
  {
   "cell_type": "markdown",
   "metadata": {},
   "source": [
    "Calls the Lambda function that starts the training job."
   ]
  },
  {
   "cell_type": "raw",
   "metadata": {},
   "source": [
    "\"StartTraining\":{\"Type\":\"Task\",\"InputPath\":\"$\",\"Resource\":\"arn:aws:lambda:eu-central-1:386431343404:function:SageBuild-VWT-Test-001-StepLambdaStartTraining-151BV6VM3LKJU\",\"ResultPath\":\"$.outputs.training\","
   ]
  },
  {
   "cell_type": "markdown",
   "metadata": {},
   "source": [
    "#### Lambda Function"
   ]
  },
  {
   "cell_type": "raw",
   "metadata": {},
   "source": [
    "var aws=require('aws-sdk')\n",
    "aws.config.region=process.env.AWS_REGION \n",
    "var sagemaker=new aws.SageMaker()\n",
    "\n",
    "exports.handler=(event,context,cb)=>{\n",
    "    console.log(\"EVENT:\",JSON.stringify(event,null,2))\n",
    "    event.args.training.Tags=event.args.training.Tags || []\n",
    "    event.args.training.Tags.push({\n",
    "        Key:\"sagebuild:BuildStack\",\n",
    "        Value:event.params.stackname\n",
    "    })\n",
    "\n",
    "    sagemaker.createTrainingJob(event.args.training).promise()\n",
    "    .then(result=>cb(null,result))\n",
    "    .catch(x=>cb(new Error(x)))\n",
    "}"
   ]
  },
  {
   "cell_type": "markdown",
   "metadata": {},
   "source": [
    "### If HPO Status"
   ]
  },
  {
   "cell_type": "raw",
   "metadata": {},
   "source": [
    "\"IfHPOStatus\":{\"Type\":\"Choice\",\"Choices\":[{\"Variable\":\"$.params.configtrain\",\"StringEquals\":\"SAGEMAKER\","
   ]
  },
  {
   "cell_type": "markdown",
   "metadata": {},
   "source": [
    "### Get HPO Status"
   ]
  },
  {
   "cell_type": "markdown",
   "metadata": {},
   "source": [
    "Invokes the Lambda function that gets the HPO Status"
   ]
  },
  {
   "cell_type": "raw",
   "metadata": {},
   "source": [
    "\"getHPOStatus\":{\"Type\":\"Task\",\"Resource\":\"arn:aws:lambda:eu-central-1:386431343404:function:SageBuild-VWT-Test-001-StepLambdaHPOStatus-191WL3YIDBIK\",\"ResultPath\":\"$.status.training\""
   ]
  },
  {
   "cell_type": "markdown",
   "metadata": {},
   "source": [
    "#### Lambda Function"
   ]
  },
  {
   "cell_type": "raw",
   "metadata": {},
   "source": [
    "var aws=require('aws-sdk')\n",
    "aws.config.region=process.env.AWS_REGION \n",
    "var sagemaker=new aws.SageMaker()\n",
    "\n",
    "exports.handler=(event,context,cb)=>{\n",
    "    console.log(\"EVENT:\",JSON.stringify(event,null,2))\n",
    "\n",
    "    sagemaker.describeHyperParameterTuningJob({\n",
    "        HyperParameterTuningJobName:event.outputs.training.HyperParameterTuningJobArn.split('/')[1]\n",
    "    }).promise()\n",
    "    .then(result=>{\n",
    "        cb(null,result)\n",
    "    })\n",
    "    .catch(x=>cb(new Error(x)))\n",
    "}"
   ]
  },
  {
   "cell_type": "markdown",
   "metadata": {},
   "source": [
    "### Get Training Status"
   ]
  },
  {
   "cell_type": "markdown",
   "metadata": {},
   "source": [
    "Invokes the Lambda function that gets the Training Status"
   ]
  },
  {
   "cell_type": "raw",
   "metadata": {},
   "source": [
    "\"getTrainingStatus\":{\"Type\":\"Task\",\"Resource\":\"arn:aws:lambda:eu-central-1:386431343404:function:SageBuild-VWT-Test-001-StepLambdaTrainingStatus-1OU5H2EE0050H\",\"ResultPath\":\"$.status.training\""
   ]
  },
  {
   "cell_type": "markdown",
   "metadata": {},
   "source": [
    "#### Lambda Function"
   ]
  },
  {
   "cell_type": "raw",
   "metadata": {},
   "source": [
    "var aws=require('aws-sdk')\n",
    "aws.config.region=process.env.AWS_REGION \n",
    "var sagemaker=new aws.SageMaker()\n",
    "\n",
    "exports.handler=(event,context,cb)=>{\n",
    "    console.log(\"EVENT:\",JSON.stringify(event,null,2))\n",
    "    \n",
    "    sagemaker.describeTrainingJob({\n",
    "        TrainingJobName:event.args.training.TrainingJobName\n",
    "    }).promise()\n",
    "    .then(result=>{\n",
    "        cb(null,result)\n",
    "    })\n",
    "    .catch(x=>cb(new Error(x)))\n",
    "}"
   ]
  },
  {
   "cell_type": "markdown",
   "metadata": {},
   "source": [
    "### Check Training Status"
   ]
  },
  {
   "cell_type": "raw",
   "metadata": {},
   "source": [
    "\"checkTrainingStatus\":{\"Type\":\"Choice\",\"Choices\":[{\"Variable\":\"$.status.training.TrainingJobStatus\",\"StringEquals\":\"InProgress\""
   ]
  },
  {
   "cell_type": "markdown",
   "metadata": {},
   "source": [
    "### Check HPO Status"
   ]
  },
  {
   "cell_type": "raw",
   "metadata": {},
   "source": [
    "\"checkHPOStatus\":{\"Type\":\"Choice\",\"Choices\":[{\"Variable\":\"$.status.training.HyperParameterTuningJobStatus\",\"StringEquals\":\"InProgress\""
   ]
  },
  {
   "cell_type": "markdown",
   "metadata": {},
   "source": [
    "### Get Artifact"
   ]
  },
  {
   "cell_type": "raw",
   "metadata": {},
   "source": [
    "\"getArtifact\":{\"Type\":\"Task\",\"Resource\":\"arn:aws:lambda:eu-central-1:386431343404:function:SageBuild-VWT-Test-001-StepLambdaGetArtifact-1FS77BFAKUQDB\","
   ]
  },
  {
   "cell_type": "markdown",
   "metadata": {},
   "source": [
    "#### Lambda Function"
   ]
  },
  {
   "cell_type": "raw",
   "metadata": {},
   "source": [
    "var aws=require('aws-sdk')\n",
    "aws.config.region=process.env.AWS_REGION \n",
    "var sagemaker=new aws.SageMaker()\n",
    "\n",
    "exports.handler=(event,context,cb)=>{\n",
    "    console.log(\"EVENT:\",JSON.stringify(event,null,2))\n",
    "    var model=event.params.models[0]\n",
    "    sagemaker.describeModel({\n",
    "        ModelName:model\n",
    "    }).promise()\n",
    "    .then(result=>{\n",
    "        event.status.training={\n",
    "            ModelArtifacts:{\n",
    "                S3ModelArtifacts:result.PrimaryContainer.ModelDataUrl\n",
    "            }\n",
    "        }\n",
    "    })\n",
    "    sagemaker.createModel(event.args.model).promise()\n",
    "    .then(result=>{\n",
    "        cb(null,result)\n",
    "    })\n",
    "    .catch(x=>cb(new Error(x)))\n",
    "}"
   ]
  },
  {
   "cell_type": "markdown",
   "metadata": {},
   "source": [
    "### Get Model Config"
   ]
  },
  {
   "cell_type": "raw",
   "metadata": {},
   "source": [
    "\"getModelConfig\":{\"Type\":\"Task\",\"Resource\":\"arn:aws:lambda:eu-central-1:386431343404:function:SageBuild-VWT-Test-001-StepLambdaGetModelConfig-1BHZJZGUUEB3\",\"ResultPath\":\"$.args.model\""
   ]
  },
  {
   "cell_type": "markdown",
   "metadata": {},
   "source": [
    "#### Lambda Function"
   ]
  },
  {
   "cell_type": "code",
   "execution_count": null,
   "metadata": {},
   "outputs": [],
   "source": [
    "var aws=require('aws-sdk')\n",
    "aws.config.region=process.env.AWS_REGION \n",
    "var sagemaker=new aws.SageMaker()\n",
    "\n",
    "exports.handler=(event,context,callback)=>{\n",
    "    console.log(\"EVENT:\",JSON.stringify(event,null,2))\n",
    "    if(event.params.ModelArtifacts){\n",
    "        var ModelDataUrl=event.params.ModelArtifacts\n",
    "    }else if(event.status.training.ModelArtifacts){\n",
    "        var ModelDataUrl=event.status.training.ModelArtifacts.S3ModelArtifacts \n",
    "    }else{\n",
    "        var ModelDataUrl=`${event.status.training.TrainingJobDefinition.OutputDataConfig.S3OutputPath}/${event.status.training.BestTrainingJob.TrainingJobName}/output/model.tar.gz`\n",
    "    }\n",
    "\n",
    "    try{\n",
    "        callback(null,{\n",
    "            ExecutionRoleArn:event.params.modelrole,\n",
    "            ModelName:`${event.params.name}-${event.params.id}`,\n",
    "            PrimaryContainer:{\n",
    "                Image:event.params.InferenceImage || `${event.params.accountid}.dkr.ecr.${process.env.AWS_REGION}.amazonaws.com/${event.params.ecrrepo}:Inference_v${event.params.version}`,\n",
    "                ModelDataUrl,\n",
    "                Environment:event.params.modelhostingenvironment\n",
    "            },\n",
    "            Tags:[{\n",
    "                Key:\"sagebuild:stack\",\n",
    "                Value:event.params.stackname\n",
    "            }]\n",
    "        })\n",
    "    }catch(e){\n",
    "        callback(new Error(e))\n",
    "    }\n",
    "}"
   ]
  },
  {
   "cell_type": "markdown",
   "metadata": {},
   "source": [
    "### If build Inference"
   ]
  },
  {
   "cell_type": "raw",
   "metadata": {},
   "source": [
    "\"IfBuildInference\":{\"Type\":\"Choice\",\"Choices\":[{\"Variable\":\"$.params.build.Inference\",\"BooleanEquals\":false"
   ]
  },
  {
   "cell_type": "markdown",
   "metadata": {},
   "source": [
    "### Build image Inference"
   ]
  },
  {
   "cell_type": "raw",
   "metadata": {},
   "source": [
    "\"buildImageInference\":{\"Type\":\"Task\",\"Resource\":\"arn:aws:lambda:eu-central-1:386431343404:function:SageBuild-VWT-Test-001-StepLambdaStartBuildInferen-1KKQ8LZNEPNBW\",\"ResultPath\":\"$.outputs.build.Inference\","
   ]
  },
  {
   "cell_type": "markdown",
   "metadata": {},
   "source": [
    "#### Lambda Function"
   ]
  },
  {
   "cell_type": "code",
   "execution_count": null,
   "metadata": {},
   "outputs": [],
   "source": [
    "var aws=require('aws-sdk')\n",
    "aws.config.region=process.env.AWS_REGION \n",
    "var codebuild=new aws.CodeBuild()\n",
    "\n",
    "exports.handler=(event,context,cb)=>{\n",
    "    console.log(\"EVENT:\",JSON.stringify(event,null,2))\n",
    "    codebuild.startBuild({\n",
    "        projectName:event.params.projectname,\n",
    "        environmentVariablesOverride:[{\n",
    "            name:\"IMAGE_TAG\",\n",
    "            value:`Inference_v${event.params.version}`\n",
    "        },{\n",
    "            name:\"DOCKERFILE_PATH\",\n",
    "            value:event.params[`dockerfile_path_Inference`]\n",
    "        }]\n",
    "    }).promise()\n",
    "    .then(result=>cb(null,result.build))\n",
    "    .catch(x=>cb(new Error(x)))\n",
    "}"
   ]
  },
  {
   "cell_type": "markdown",
   "metadata": {},
   "source": [
    "### Wait Inference"
   ]
  },
  {
   "cell_type": "raw",
   "metadata": {},
   "source": [
    "\"waitInference\":{\"Type\":\"Wait\",\"Seconds\":5,"
   ]
  },
  {
   "cell_type": "markdown",
   "metadata": {},
   "source": [
    "### Build Status Inference"
   ]
  },
  {
   "cell_type": "raw",
   "metadata": {},
   "source": [
    "\"buildStatusInference\":{\"Type\":\"Task\",\"Resource\":\"arn:aws:lambda:eu-central-1:386431343404:function:SageBuild-VWT-Test-001-StepLambdaBuildStatusInfere-IH7M0U7Y3NLJ\",\"ResultPath\":\"$.status.build.Inference\""
   ]
  },
  {
   "cell_type": "markdown",
   "metadata": {},
   "source": [
    "#### Lambda Function"
   ]
  },
  {
   "cell_type": "code",
   "execution_count": null,
   "metadata": {},
   "outputs": [],
   "source": [
    "var aws=require('aws-sdk')\n",
    "aws.config.region=process.env.AWS_REGION \n",
    "var codebuild=new aws.CodeBuild()\n",
    "\n",
    "exports.handler=(event,context,cb)=>{\n",
    "    console.log(JSON.stringify(event,null,2))\n",
    "    codebuild.batchGetBuilds({\n",
    "        ids:[event.outputs.build.Inference.id] \n",
    "    }).promise()\n",
    "    .then(result=>cb(null,result.builds[0]))\n",
    "    .catch(x=>{\n",
    "        console.log(x)\n",
    "        cb(new Error(x))\n",
    "    })\n",
    "}"
   ]
  },
  {
   "cell_type": "markdown",
   "metadata": {},
   "source": [
    "### Check image Inference"
   ]
  },
  {
   "cell_type": "raw",
   "metadata": {},
   "source": [
    "\"checkImageInference\":{\"Type\":\"Choice\",\"Choices\":[{\"Variable\":\"$.status.build.Inference.buildStatus\",\"StringEquals\":\"IN_PROGRESS\""
   ]
  },
  {
   "cell_type": "markdown",
   "metadata": {},
   "source": [
    "### End Build Inference"
   ]
  },
  {
   "cell_type": "raw",
   "metadata": {},
   "source": [
    "\"EndBuildInference\":{\"Type\":\"Pass\","
   ]
  },
  {
   "cell_type": "markdown",
   "metadata": {},
   "source": [
    "### Create Model"
   ]
  },
  {
   "cell_type": "raw",
   "metadata": {},
   "source": [
    "\"createModel\":{\"Type\":\"Task\",\"Resource\":\"arn:aws:lambda:eu-central-1:386431343404:function:SageBuild-VWT-Test-001-StepLambdaCreateModel-1TJVNVZHDUIHN\",\"ResultPath\":\"$.outputs.models\""
   ]
  },
  {
   "cell_type": "markdown",
   "metadata": {},
   "source": [
    "#### Lambda Function"
   ]
  },
  {
   "cell_type": "raw",
   "metadata": {},
   "source": [
    "var aws=require('aws-sdk')\n",
    "aws.config.region=process.env.AWS_REGION \n",
    "var sagemaker=new aws.SageMaker()\n",
    "\n",
    "exports.handler=(event,context,cb)=>{\n",
    "    console.log(\"EVENT:\",JSON.stringify(event,null,2))\n",
    "    sagemaker.createModel(event.args.model).promise()\n",
    "    .then(result=>{\n",
    "        cb(null,result)\n",
    "    })\n",
    "    .catch(x=>cb(new Error(x)))\n",
    "}"
   ]
  },
  {
   "cell_type": "markdown",
   "metadata": {},
   "source": [
    "### Get Endpoint Config"
   ]
  },
  {
   "cell_type": "raw",
   "metadata": {},
   "source": [
    "\"getEndpointConfig\":{\"Type\":\"Task\",\"InputPath\":\"$\",\"Resource\":\"arn:aws:lambda:eu-central-1:386431343404:function:SageBuild-VWT-Test-001-StepLambdaGetEndpointConfig-OWLO1IMNFVD8\",\"ResultPath\":\"$.args.endpoint\""
   ]
  },
  {
   "cell_type": "markdown",
   "metadata": {},
   "source": [
    "#### Lambda Function"
   ]
  },
  {
   "cell_type": "raw",
   "metadata": {},
   "source": [
    "import json\n",
    "import os\n",
    "def handler(event,context):\n",
    "    print(json.dumps(event,indent=2))\n",
    "    return {\n",
    "      \"ProductionVariants\": [{\n",
    "          \"InitialInstanceCount\":event[\"params\"][\"hostinstancecount\"], \n",
    "          \"InstanceType\":event[\"params\"][\"hostinstancetype\"],\n",
    "          \"ModelName\":event[\"args\"][\"model\"][\"ModelName\"], \n",
    "          \"VariantName\":event[\"params\"][\"version\"], \n",
    "        }]\n",
    "    } "
   ]
  },
  {
   "cell_type": "markdown",
   "metadata": {},
   "source": [
    "### Create Endpoint Config"
   ]
  },
  {
   "cell_type": "raw",
   "metadata": {},
   "source": [
    "\"createEndpointConfig\":{\"Type\":\"Task\",\"Resource\":\"arn:aws:lambda:eu-central-1:386431343404:function:SageBuild-VWT-Test-001-StepLambdaCreateEndpointCon-10VRUKIN9KIXP\",\"ResultPath\":\"$.outputs.endpoint\""
   ]
  },
  {
   "cell_type": "markdown",
   "metadata": {},
   "source": [
    "#### Lambda Function"
   ]
  },
  {
   "cell_type": "code",
   "execution_count": null,
   "metadata": {},
   "outputs": [],
   "source": [
    "var aws=require('aws-sdk')\n",
    "aws.config.region=process.env.AWS_REGION \n",
    "var sagemaker=new aws.SageMaker()\n",
    "\n",
    "exports.handler=(event,context,cb)=>{\n",
    "    console.log(\"EVENT:\",JSON.stringify(event,null,2))\n",
    "    \n",
    "    var args=Object.assign({\n",
    "        EndpointConfigName:`${event.params.name}-${event.params.id}`,\n",
    "        Tags:[]\n",
    "    },event.args.endpoint) \n",
    "    \n",
    "    if(event.params.models[0]){\n",
    "        args.Tags.push({\n",
    "            Key:\"sagebuild:previous\",Value:event.params.models[0]\n",
    "        })\n",
    "    }\n",
    "    sagemaker.createEndpointConfig(args).promise()\n",
    "    .then(result=>{\n",
    "        cb(null,result)\n",
    "    })\n",
    "    .catch(x=>cb(new Error(x)))\n",
    "}"
   ]
  },
  {
   "cell_type": "markdown",
   "metadata": {},
   "source": [
    "### Update Endpoint"
   ]
  },
  {
   "cell_type": "raw",
   "metadata": {},
   "source": [
    "\"updateEndpoint\":{\"Type\":\"Task\",\"Resource\":\"arn:aws:lambda:eu-central-1:386431343404:function:SageBuild-VWT-Test-001-StepLambdaUpdateEndpoint-FTYH9ZR79AS8\",\"ResultPath\":\"$.outputs.deploy\""
   ]
  },
  {
   "cell_type": "markdown",
   "metadata": {},
   "source": [
    "#### Lambda Function"
   ]
  },
  {
   "cell_type": "raw",
   "metadata": {},
   "source": [
    "var aws=require('aws-sdk')\n",
    "aws.config.region=process.env.AWS_REGION \n",
    "var sagemaker=new aws.SageMaker()\n",
    "var crypto=require('crypto')\n",
    "var hash=crypto.randomBytes(8).toString('base64').replace('=','')\n",
    "\n",
    "exports.handler=(event,context,cb)=>{\n",
    "    console.log(\"EVENT:\",JSON.stringify(event,null,2))\n",
    "        \n",
    "    return sagemaker.describeEndpoint({\n",
    "        EndpointName:event.params.endpointname\n",
    "    }).promise()\n",
    "    .then(()=>true)\n",
    "    .catch(error=>{\n",
    "        if(error.message.match(/Could not find/)){\n",
    "            return false\n",
    "        }else{\n",
    "            throw error\n",
    "        }\n",
    "    })\n",
    "    .then(function(exists){\n",
    "        var name=event.outputs.endpoint.EndpointConfigArn.match(\n",
    "            /arn:aws:sagemaker:.*:.*:endpoint-config\\/(.*)/)[1]\n",
    "        if(exists){\n",
    "            return sagemaker.updateEndpoint({\n",
    "                EndpointName:event.params.endpointname,\n",
    "                EndpointConfigName:name,\n",
    "            }).promise()\n",
    "        }else{\n",
    "            return sagemaker.createEndpoint({\n",
    "                EndpointName:event.params.endpointname,\n",
    "                EndpointConfigName:name,\n",
    "            }).promise()\n",
    "        }\n",
    "    })\n",
    "    .then(result=>{\n",
    "        cb(null,result)\n",
    "    })\n",
    "    .catch(x=>cb(new Error(x)))\n",
    "}"
   ]
  },
  {
   "cell_type": "markdown",
   "metadata": {},
   "source": [
    "### Wait for Endpoint"
   ]
  },
  {
   "cell_type": "raw",
   "metadata": {},
   "source": [
    "\"waitForEndpoint\":{\"Type\":\"Wait\",\"Seconds\":10,"
   ]
  },
  {
   "cell_type": "markdown",
   "metadata": {},
   "source": [
    "### Endpoint Status"
   ]
  },
  {
   "cell_type": "raw",
   "metadata": {},
   "source": [
    "\"endpointStatus\":{\"Type\":\"Task\",\"Resource\":\"arn:aws:lambda:eu-central-1:386431343404:function:SageBuild-VWT-Test-001-StepLambdaEndpointStatus-10KK1AZ7D2FJS\",\"ResultPath\":\"$.status.endpoint\""
   ]
  },
  {
   "cell_type": "markdown",
   "metadata": {},
   "source": [
    "#### Lambda Function"
   ]
  },
  {
   "cell_type": "code",
   "execution_count": null,
   "metadata": {},
   "outputs": [],
   "source": [
    "var aws=require('aws-sdk')\n",
    "aws.config.region=process.env.AWS_REGION \n",
    "var sagemaker=new aws.SageMaker()\n",
    "\n",
    "exports.handler=(event,context,cb)=>{\n",
    "    console.log(\"EVENT:\",JSON.stringify(event,null,2))\n",
    "    try{ \n",
    "        sagemaker.describeEndpoint({\n",
    "            EndpointName:event.params.endpointname\n",
    "        }).promise()\n",
    "        .then(result=>{\n",
    "            cb(null,result)\n",
    "        })\n",
    "        .catch(function(error){\n",
    "            console.log(error)\n",
    "            if(error.message.match(/Could not find endpoint/)){\n",
    "                cb(null,{EndpointStatus:\"Empty\"})\n",
    "            }else{\n",
    "                cb(new Error(error))\n",
    "            }\n",
    "        })\n",
    "    }catch(e){\n",
    "        console.log(e)\n",
    "        cb(new Error(e))\n",
    "    }\n",
    "}"
   ]
  },
  {
   "cell_type": "markdown",
   "metadata": {},
   "source": [
    "### Endpoint Check"
   ]
  },
  {
   "cell_type": "raw",
   "metadata": {},
   "source": [
    "\"endpointCheck\":{\"Type\":\"Choice\",\"Choices\":[{\"Or\":[{\"Variable\":\"$.status.endpoint.EndpointStatus\",\"StringEquals\":\"Creating\"},{\"Variable\":\"$.status.endpoint.EndpointStatus\",\"StringEquals\":\"Updating\"},{\"Variable\":\"$.status.endpoint.EndpointStatus\",\"StringEquals\":\"RollingBack\"}]"
   ]
  },
  {
   "cell_type": "markdown",
   "metadata": {},
   "source": [
    "### Deploy Status"
   ]
  },
  {
   "cell_type": "raw",
   "metadata": {},
   "source": [
    "\"DeployStatus\":{\"Type\":\"Task\",\"Resource\":\"arn:aws:lambda:eu-central-1:386431343404:function:SageBuild-VWT-Test-001-StepLambdaDeployCheck-1HK01TD77DDI\",\"ResultPath\":\"$.status.deployment\""
   ]
  },
  {
   "cell_type": "markdown",
   "metadata": {},
   "source": [
    "#### Lambda Function"
   ]
  },
  {
   "cell_type": "raw",
   "metadata": {},
   "source": [
    "var aws=require('aws-sdk')\n",
    "aws.config.region=process.env.AWS_REGION \n",
    "var codebuild=new aws.CodeBuild()\n",
    "var ssm=new aws.SSM()\n",
    "\n",
    "exports.handler=(event,context,cb)=>{\n",
    "    console.log(\"EVENT:\",JSON.stringify(event,null,2))\n",
    "    try{\n",
    "        var deployedName=event.status.endpoint.EndpointConfigName \n",
    "        var configArn=event.outputs.endpoint.EndpointConfigArn\n",
    "        var configName=configArn.match(/arn:aws:sagemaker:.*:.*:endpoint-config\\/(.*)/)[1]\n",
    "        var success=deployedName.toLowerCase()===configName.toLowerCase()\n",
    "        cb(null,success)\n",
    "    }catch(x){\n",
    "        cb(new Error(x))\n",
    "    }\n",
    "}"
   ]
  },
  {
   "cell_type": "markdown",
   "metadata": {},
   "source": [
    "### Deploy Check"
   ]
  },
  {
   "cell_type": "raw",
   "metadata": {},
   "source": [
    "DeployCheck\":{\"Type\":\"Choice\",\"Choices\":[{\"Variable\":\"$.status.deployment\",\"BooleanEquals\":true,\"Next\":\"Success\"},{\"Variable\":\"$.status.deployment\",\"BooleanEquals\":false,\"Next\":\"rollback\"}],\"Default\":\"rollback\"}"
   ]
  },
  {
   "cell_type": "markdown",
   "metadata": {},
   "source": [
    "### Success"
   ]
  },
  {
   "cell_type": "raw",
   "metadata": {},
   "source": [
    "\"Success\":{\"Type\":\"Task\",\"Resource\":\"arn:aws:lambda:eu-central-1:386431343404:function:SageBuild-VWT-Test-001-StepLambdaNotificationSucce-180B33KZKY3UY\",\"End\":true,\"Catch\":[{\"ErrorEquals\":[\"States.ALL\"],\"ResultPath\":\"$.error\","
   ]
  },
  {
   "cell_type": "markdown",
   "metadata": {},
   "source": [
    "#### Lambda Function"
   ]
  },
  {
   "cell_type": "raw",
   "metadata": {},
   "source": [
    "var aws=require('aws-sdk')\n",
    "aws.config.region=process.env.AWS_REGION \n",
    "var sns=new aws.SNS()\n",
    "aws.config.region=process.env.AWS_REGION \n",
    "var ssm=new aws.SSM()\n",
    "\n",
    "var result=\"Success\"\n",
    "exports.handler=(event,context,cb)=>{\n",
    "    console.log(\"EVENT:\",JSON.stringify(event,null,2))\n",
    "  \n",
    "    Promise.all([\n",
    "        sns.publish({\n",
    "            TopicArn:event.params.statustopic,\n",
    "            Subject:`SageBuild ${result}`,\n",
    "            Message:`Training ${result}. \n",
    "                StackName:${event.params.stackname} \n",
    "                Name:${event.params.name}\n",
    "                Date:${new Date()}\n",
    "            `,\n",
    "            MessageAttributes:{\n",
    "                event:{\n",
    "                    DataType:\"String\",\n",
    "                    StringValue:JSON.stringify(event)\n",
    "                }\n",
    "            }\n",
    "        }).promise(),\n",
    "        ssm.putParameter({\n",
    "            Name:process.env.VERSIONPARAMETERSTORE,\n",
    "            Type:\"String\",\n",
    "            Value:event.params.version,\n",
    "            Overwrite:true\n",
    "        }).promise()\n",
    "    ])\n",
    "    .then(result=>{\n",
    "        cb(null,{})\n",
    "    })\n",
    "    .catch(cb)\n",
    "}"
   ]
  },
  {
   "cell_type": "markdown",
   "metadata": {},
   "source": [
    "### Fail"
   ]
  },
  {
   "cell_type": "raw",
   "metadata": {},
   "source": [
    "\"Fail\":{\"Type\":\"Fail\"}}} "
   ]
  },
  {
   "cell_type": "markdown",
   "metadata": {},
   "source": [
    "## Delete Group"
   ]
  },
  {
   "cell_type": "markdown",
   "metadata": {},
   "source": [
    "### Should Delete Endpoint"
   ]
  },
  {
   "cell_type": "raw",
   "metadata": {},
   "source": [
    "[{\"StartAt\":\"shouldDeleteEndpoint\",\"States\":{\"shouldDeleteEndpoint\":{\"Type\":\"Choice\",\"Choices\":[{\"Or\":[{\"Variable\":\"$.status.endpoint.EndpointStatus\",\"StringEquals\":\"Failed\"}]"
   ]
  },
  {
   "cell_type": "markdown",
   "metadata": {},
   "source": [
    "### Endpoint Delete"
   ]
  },
  {
   "cell_type": "raw",
   "metadata": {},
   "source": [
    "\"endpointDelete\":{\"Type\":\"Task\",\"Resource\":\"arn:aws:lambda:eu-central-1:386431343404:function:SageBuild-VWT-Test-001-StepLambdaDeleteEndpoint-VC7ZQZLR0COL\",\"ResultPath\":\"$.status.endpointdelete\""
   ]
  },
  {
   "cell_type": "markdown",
   "metadata": {},
   "source": [
    "#### Lambda Function"
   ]
  },
  {
   "cell_type": "raw",
   "metadata": {},
   "source": [
    "var aws=require('aws-sdk')\n",
    "aws.config.region=process.env.AWS_REGION \n",
    "var sagemaker=new aws.SageMaker()\n",
    "var crypto=require('crypto')\n",
    "var hash=crypto.randomBytes(8).toString('base64').replace('=','')\n",
    "\n",
    "exports.handler=(event,context,cb)=>{\n",
    "    console.log(\"EVENT:\",JSON.stringify(event,null,2))\n",
    "    \n",
    "    return sagemaker.deleteEndpoint({\n",
    "        EndpointName:event.params.endpointname\n",
    "    }).promise()\n",
    "    .then(result=>{\n",
    "        cb(null,result)\n",
    "    })\n",
    "    .catch(x=>cb(new Error(x)))\n",
    "}"
   ]
  },
  {
   "cell_type": "markdown",
   "metadata": {},
   "source": [
    "### Endpoint Delete Status"
   ]
  },
  {
   "cell_type": "raw",
   "metadata": {},
   "source": [
    "\"endpointDeleteStatus\":{\"Type\":\"Task\",\"Resource\":\"arn:aws:lambda:eu-central-1:386431343404:function:SageBuild-VWT-Test-001-StepLambdaEndpointStatus-10KK1AZ7D2FJS\",\"ResultPath\":\"$.status.endpoint\""
   ]
  },
  {
   "cell_type": "markdown",
   "metadata": {},
   "source": [
    "#### Lambda Function"
   ]
  },
  {
   "cell_type": "raw",
   "metadata": {},
   "source": [
    "var aws=require('aws-sdk')\n",
    "aws.config.region=process.env.AWS_REGION \n",
    "var sagemaker=new aws.SageMaker()\n",
    "\n",
    "exports.handler=(event,context,cb)=>{\n",
    "    console.log(\"EVENT:\",JSON.stringify(event,null,2))\n",
    "    try{ \n",
    "        sagemaker.describeEndpoint({\n",
    "            EndpointName:event.params.endpointname\n",
    "        }).promise()\n",
    "        .then(result=>{\n",
    "            cb(null,result)\n",
    "        })\n",
    "        .catch(function(error){\n",
    "            console.log(error)\n",
    "            if(error.message.match(/Could not find endpoint/)){\n",
    "                cb(null,{EndpointStatus:\"Empty\"})\n",
    "            }else{\n",
    "                cb(new Error(error))\n",
    "            }\n",
    "        })\n",
    "    }catch(e){\n",
    "        console.log(e)\n",
    "        cb(new Error(e))\n",
    "    }\n",
    "}"
   ]
  },
  {
   "cell_type": "markdown",
   "metadata": {},
   "source": [
    "### Wait for Delete"
   ]
  },
  {
   "cell_type": "raw",
   "metadata": {},
   "source": [
    "\"waitForDelete\":{\"Type\":\"Wait\",\"Seconds\":10,"
   ]
  },
  {
   "cell_type": "markdown",
   "metadata": {},
   "source": [
    "### Endpoint Delete Check"
   ]
  },
  {
   "cell_type": "raw",
   "metadata": {},
   "source": [
    "\"endpointDeleteCheck\":{\"Type\":\"Choice\",\"Choices\":[{\"Or\":[{\"Variable\":\"$.status.endpoint.EndpointStatus\",\"StringEquals\":\"Deleting\"},{\"Variable\":\"$.status.endpoint.EndpointStatus\",\"StringEquals\":\"Failed\"}]"
   ]
  },
  {
   "cell_type": "markdown",
   "metadata": {},
   "source": [
    "### End Delete"
   ]
  },
  {
   "cell_type": "raw",
   "metadata": {},
   "source": [
    "\"endDelete\":{\"Type\":\"Pass\",\"End\":true}}}"
   ]
  },
  {
   "cell_type": "markdown",
   "metadata": {},
   "source": [
    "### Delete Endpoint Config"
   ]
  },
  {
   "cell_type": "raw",
   "metadata": {},
   "source": [
    "{\"StartAt\":\"deleteEndpointConfig\",\"States\":{\"deleteEndpointConfig\":{\"Type\":\"Task\",\"End\":true,\"Resource\":\"arn:aws:lambda:eu-central-1:386431343404:function:SageBuild-VWT-Test-001-StepLambdaDeleteEndpointCon-BU29NOGS35WO\",\"ResultPath\":\"$.outputs.deleteEndpointConfig\"}}}"
   ]
  },
  {
   "cell_type": "markdown",
   "metadata": {},
   "source": [
    "#### Lambda Function"
   ]
  },
  {
   "cell_type": "code",
   "execution_count": null,
   "metadata": {},
   "outputs": [],
   "source": [
    "var aws=require('aws-sdk')\n",
    "aws.config.region=process.env.AWS_REGION \n",
    "var sagemaker=new aws.SageMaker()\n",
    "\n",
    "exports.handler=(event,context,cb)=>{\n",
    "    console.log(\"EVENT:\",JSON.stringify(event,null,2))\n",
    "    var name=event.outputs.endpoint.EndpointConfigArn.match(\n",
    "            /arn:aws:sagemaker:.*:.*:endpoint-config\\/(.*)/)[1]\n",
    "   \n",
    "    sagemaker.deleteEndpointConfig({\n",
    "        EndpointConfigName:name\n",
    "    }).promise()\n",
    "    .then(result=>{\n",
    "        cb(null,result)\n",
    "    })\n",
    "    .catch(x=>cb(new Error(x)))\n",
    "}"
   ]
  },
  {
   "cell_type": "markdown",
   "metadata": {},
   "source": [
    "### Delete Model"
   ]
  },
  {
   "cell_type": "raw",
   "metadata": {},
   "source": [
    "{\"StartAt\":\"deleteModel\",\"States\":{\"deleteModel\":{\"Type\":\"Task\",\"End\":true,\"Resource\":\"arn:aws:lambda:eu-central-1:386431343404:function:SageBuild-VWT-Test-001-StepLambdaDeleteModel-17Z3RTH2LELOY\",\"ResultPath\":\"$.outputs.deleteModel\"}}}],"
   ]
  },
  {
   "cell_type": "markdown",
   "metadata": {},
   "source": [
    "#### Lambda Function"
   ]
  },
  {
   "cell_type": "raw",
   "metadata": {},
   "source": [
    "var aws=require('aws-sdk')\n",
    "aws.config.region=process.env.AWS_REGION \n",
    "var sagemaker=new aws.SageMaker()\n",
    "\n",
    "exports.handler=(event,context,cb)=>{\n",
    "    console.log(\"EVENT:\",JSON.stringify(event,null,2))\n",
    "    \n",
    "    sagemaker.deleteModel({ModelName:event.args.model.ModelName}).promise()\n",
    "    .then(result=>{\n",
    "        cb(null,result)\n",
    "    })\n",
    "    .catch(x=>cb(new Error(x)))\n",
    "}"
   ]
  },
  {
   "cell_type": "markdown",
   "metadata": {},
   "source": [
    "### All deletes caught by error"
   ]
  },
  {
   "cell_type": "raw",
   "metadata": {},
   "source": [
    "\"Catch\":[{\"ErrorEquals\":[\"States.ALL\"],\"ResultPath\":\"$.error\",\"Next\":\"Error\"}]}"
   ]
  },
  {
   "cell_type": "markdown",
   "metadata": {},
   "source": [
    "### Endpoint Fail"
   ]
  },
  {
   "cell_type": "raw",
   "metadata": {},
   "source": [
    "\"endpointFail\":{\"Type\":\"Task\",\"Resource\":\"arn:aws:lambda:eu-central-1:386431343404:function:SageBuild-VWT-Test-001-StepLambdaNotificationFail-SA5GZ4LNXOUS\","
   ]
  },
  {
   "cell_type": "markdown",
   "metadata": {},
   "source": [
    "#### Lambda Function"
   ]
  },
  {
   "cell_type": "raw",
   "metadata": {},
   "source": [
    "var aws=require('aws-sdk')\n",
    "aws.config.region=process.env.AWS_REGION \n",
    "var sns=new aws.SNS()\n",
    "var result=\"Failed\"\n",
    "exports.handler=(event,context,cb)=>{\n",
    "    console.log(\"EVENT:\",JSON.stringify(event,null,2))\n",
    "  \n",
    "    sns.publish({\n",
    "        TopicArn:event.params.statustopic,\n",
    "        Subject:`SageBuild ${result}`,\n",
    "        Message:JSON.stringify({\n",
    "            Result:\"Fail\",\n",
    "            StackName:event.params.stackname,\n",
    "            Name:event.params.name,\n",
    "            Date:new Date(),\n",
    "            Error:event.error\n",
    "        },null,2),\n",
    "        MessageAttributes:{\n",
    "            event:{\n",
    "                DataType:\"String\",\n",
    "                StringValue:JSON.stringify(event)\n",
    "            }\n",
    "        }\n",
    "    }).promise()\n",
    "    .then(result=>{\n",
    "        cb(null,{})\n",
    "    })\n",
    "    .catch(cb)\n",
    "}"
   ]
  },
  {
   "cell_type": "markdown",
   "metadata": {},
   "source": [
    "### Fail build notification Inference"
   ]
  },
  {
   "cell_type": "raw",
   "metadata": {},
   "source": [
    "\"FailBuildNotificationInference\":{\"Type\":\"Task\",\"Resource\":\"arn:aws:lambda:eu-central-1:386431343404:function:SageBuild-VWT-Test-001-StepLambdaNotificationFail-SA5GZ4LNXOUS\""
   ]
  },
  {
   "cell_type": "markdown",
   "metadata": {},
   "source": [
    "#### Lambda Function"
   ]
  },
  {
   "cell_type": "raw",
   "metadata": {},
   "source": [
    "var aws=require('aws-sdk')\n",
    "aws.config.region=process.env.AWS_REGION \n",
    "var sns=new aws.SNS()\n",
    "var result=\"Failed\"\n",
    "exports.handler=(event,context,cb)=>{\n",
    "    console.log(\"EVENT:\",JSON.stringify(event,null,2))\n",
    "  \n",
    "    sns.publish({\n",
    "        TopicArn:event.params.statustopic,\n",
    "        Subject:`SageBuild ${result}`,\n",
    "        Message:JSON.stringify({\n",
    "            Result:\"Fail\",\n",
    "            StackName:event.params.stackname,\n",
    "            Name:event.params.name,\n",
    "            Date:new Date(),\n",
    "            Error:event.error\n",
    "        },null,2),\n",
    "        MessageAttributes:{\n",
    "            event:{\n",
    "                DataType:\"String\",\n",
    "                StringValue:JSON.stringify(event)\n",
    "            }\n",
    "        }\n",
    "    }).promise()\n",
    "    .then(result=>{\n",
    "        cb(null,{})\n",
    "    })\n",
    "    .catch(cb)\n",
    "}"
   ]
  },
  {
   "cell_type": "markdown",
   "metadata": {},
   "source": [
    "### Fail build notification Training"
   ]
  },
  {
   "cell_type": "raw",
   "metadata": {},
   "source": [
    "\"FailBuildNotificationTraining\":{\"Type\":\"Task\",\"Resource\":\"arn:aws:lambda:eu-central-1:386431343404:function:SageBuild-VWT-Test-001-StepLambdaNotificationFail-SA5GZ4LNXOUS\""
   ]
  },
  {
   "cell_type": "markdown",
   "metadata": {},
   "source": [
    "#### Lambda Function"
   ]
  },
  {
   "cell_type": "code",
   "execution_count": null,
   "metadata": {},
   "outputs": [],
   "source": [
    "var aws=require('aws-sdk')\n",
    "aws.config.region=process.env.AWS_REGION \n",
    "var sns=new aws.SNS()\n",
    "var result=\"Failed\"\n",
    "exports.handler=(event,context,cb)=>{\n",
    "    console.log(\"EVENT:\",JSON.stringify(event,null,2))\n",
    "  \n",
    "    sns.publish({\n",
    "        TopicArn:event.params.statustopic,\n",
    "        Subject:`SageBuild ${result}`,\n",
    "        Message:JSON.stringify({\n",
    "            Result:\"Fail\",\n",
    "            StackName:event.params.stackname,\n",
    "            Name:event.params.name,\n",
    "            Date:new Date(),\n",
    "            Error:event.error\n",
    "        },null,2),\n",
    "        MessageAttributes:{\n",
    "            event:{\n",
    "                DataType:\"String\",\n",
    "                StringValue:JSON.stringify(event)\n",
    "            }\n",
    "        }\n",
    "    }).promise()\n",
    "    .then(result=>{\n",
    "        cb(null,{})\n",
    "    })\n",
    "    .catch(cb)\n",
    "}"
   ]
  }
 ],
 "metadata": {
  "kernelspec": {
   "display_name": "Python 3",
   "language": "python",
   "name": "python3"
  },
  "language_info": {
   "codemirror_mode": {
    "name": "ipython",
    "version": 3
   },
   "file_extension": ".py",
   "mimetype": "text/x-python",
   "name": "python",
   "nbconvert_exporter": "python",
   "pygments_lexer": "ipython3",
   "version": "3.6.7"
  }
 },
 "nbformat": 4,
 "nbformat_minor": 2
}
