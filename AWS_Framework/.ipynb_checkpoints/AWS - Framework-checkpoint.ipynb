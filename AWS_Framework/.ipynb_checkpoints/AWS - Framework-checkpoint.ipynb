{
 "cells": [
  {
   "cell_type": "markdown",
   "metadata": {},
   "source": [
    "# AWS - Framework"
   ]
  },
  {
   "cell_type": "markdown",
   "metadata": {},
   "source": [
    "## Description"
   ]
  },
  {
   "cell_type": "markdown",
   "metadata": {},
   "source": [
    "This workbook puts together all components needed to set up the AWS network for the VWT Machine Learning Framework."
   ]
  },
  {
   "cell_type": "markdown",
   "metadata": {},
   "source": [
    "## Content"
   ]
  },
  {
   "cell_type": "markdown",
   "metadata": {},
   "source": [
    "Below are the stages of the network in which set-up will be detailed throughout the workbook:\n",
    "\n",
    "- SageMaker\n",
    "- API Gateway\n",
    "- Lambda Functions\n",
    "- Endpoint\n",
    "- Step Functions\n",
    "- Cloudwatch"
   ]
  },
  {
   "cell_type": "markdown",
   "metadata": {},
   "source": [
    "## Diagram\n",
    "<img src=\"AWS_Framework/ML-Framework.jpg\">"
   ]
  },
  {
   "cell_type": "markdown",
   "metadata": {},
   "source": [
    "## ML System"
   ]
  },
  {
   "cell_type": "markdown",
   "metadata": {},
   "source": [
    "### SageMaker"
   ]
  },
  {
   "cell_type": "markdown",
   "metadata": {},
   "source": [
    "Diagram"
   ]
  },
  {
   "cell_type": "markdown",
   "metadata": {},
   "source": [
    "<img src=\"AWS_Framework/SageMaker/Sagemaker_detail.jpg\">"
   ]
  },
  {
   "cell_type": "markdown",
   "metadata": {},
   "source": [
    "SageMaker is the networks main place for training the machine learning models. For the purpose of this workbook SageMaker will act as the host of all the services in which AWS will use to perform all machine learning.\n",
    "\n",
    "SageMaker will be used to re-train the various machine learning models that the VoX Wallet will provide to the user or operator. Each of these models will have different datasets stored in one or multiple S3 buckets and will use seperate algorithms for the training. \n",
    "\n",
    "Data labelling will need to take place on these datasets for any supervised learning models to be run. Depending on the size of the data Auto Data Labelling can take place (usually at least 5,000 datapoints). Datasets with smaller size will need Human labelling, AWS provides Labelling Jobs which are sent to workers within the AWS network. The difficulty then comes in how these workers, or a machine will be able to determine the labels of the data, for example guessing which of the datapoints is a problem gambler. Perhaps the data will need to be labeled by an operator, using self exclusion as an anchor, as they will better understand which of their users are problem gamblers. Currently researching the potential of unsupervised machine learning algorithms, which therefore will not require data labelling.\n",
    "\n",
    "Below is a list of other services that are involved in the machine learning processes and are managed by SageMaker:\n",
    "\n",
    "- S3\n",
    "- ECR\n",
    "- Auto Scaling Instances"
   ]
  },
  {
   "cell_type": "markdown",
   "metadata": {},
   "source": [
    "#### S3"
   ]
  },
  {
   "cell_type": "markdown",
   "metadata": {},
   "source": [
    "S3 is the storage service that AWS provides for any data or object. Each seperate machile learning model in the ML System will require an S3 Bucket for both the data and the machine learning model. There will be a total of 5 S3 buckets required:\n",
    "\n",
    "##### S3 Data Buckets\n",
    "\n",
    "- S3 (Before Initial Deposit) Data Bucket\n",
    "- S3 (Gambling Behaviour) Data Bucket\n",
    "\n",
    "##### S3 Model Buckets\n",
    "\n",
    "- S3 (Before Initial Deposit Problem Gambling) Model Bucket\n",
    "- S3 (Gambling Bheaviour Problem Gambling) Model Bucket\n",
    "- S3 (Gambling Behaviour Marketing) Model Bucket"
   ]
  },
  {
   "cell_type": "markdown",
   "metadata": {},
   "source": [
    "#### ECR"
   ]
  },
  {
   "cell_type": "markdown",
   "metadata": {},
   "source": [
    "ECR will hold the initial model it will hold the uploaded docker image."
   ]
  },
  {
   "cell_type": "markdown",
   "metadata": {},
   "source": [
    "#### Auto Scaling Instances"
   ]
  },
  {
   "cell_type": "markdown",
   "metadata": {},
   "source": [
    "This is the compute resource that will be used for the processing of the machine learning training. These instances will scale up and down depending on the amount of training data that is available."
   ]
  },
  {
   "cell_type": "markdown",
   "metadata": {},
   "source": [
    "## Prediction Pipeline"
   ]
  },
  {
   "cell_type": "markdown",
   "metadata": {},
   "source": [
    "Diagram"
   ]
  },
  {
   "cell_type": "markdown",
   "metadata": {},
   "source": [
    "<img src=\"AWS_Framework/SageMaker/Prediction_pipeline.jpg\">"
   ]
  },
  {
   "cell_type": "markdown",
   "metadata": {},
   "source": [
    "### API Gateway"
   ]
  },
  {
   "cell_type": "markdown",
   "metadata": {},
   "source": [
    "The API Gateway is an AWS service that enables you to create, publish, maintain, monitor, and secure your own REST and WebSocket APIs at any scale. You can create robust, secure, and scalable APIs that access AWS, as well as data stored in the AWS Cloud. This will enable data calls to be made straight from the user device to the cloud, the first step in order to obtain a ML prediction. It also provides support for different DNS calls, such as mobile and web."
   ]
  },
  {
   "cell_type": "markdown",
   "metadata": {},
   "source": [
    "### Lambda Functions"
   ]
  },
  {
   "cell_type": "markdown",
   "metadata": {},
   "source": [
    "The Lambda functions will connect to the API Gateway and act as a preperation filter to then be labeled at the SageMaker endpoint. The data will be distributed for the respective pre-processing algorithm, then computed using serverless."
   ]
  },
  {
   "cell_type": "markdown",
   "metadata": {},
   "source": [
    "To use Lambda preprocessing, the application's IAM role requires the following permissions policy:"
   ]
  },
  {
   "cell_type": "code",
   "execution_count": null,
   "metadata": {},
   "outputs": [],
   "source": [
    "     {\n",
    "       \"Sid\": \"UseLambdaFunction\",\n",
    "       \"Effect\": \"Allow\",\n",
    "       \"Action\": [\n",
    "           \"lambda:InvokeFunction\",\n",
    "           \"lambda:GetFunctionConfiguration\"\n",
    "       ],\n",
    "       \"Resource\": \"<FunctionARN>\"\n",
    "   }"
   ]
  },
  {
   "cell_type": "markdown",
   "metadata": {},
   "source": [
    "#### Filter Lambda Function Code"
   ]
  },
  {
   "cell_type": "markdown",
   "metadata": {},
   "source": [
    "### SageMaker Endpoint"
   ]
  },
  {
   "cell_type": "markdown",
   "metadata": {},
   "source": [
    "After you deploy a model into production using Amazon SageMaker hosting services, your client applications use this API to get inferences from the model hosted at the specified endpoint. After the data has been preprocessed we then use the endpoint to invoke the model stored in the S3 Model Bucket and then make a prediction."
   ]
  },
  {
   "cell_type": "markdown",
   "metadata": {},
   "source": [
    "## Monitoring & Updating"
   ]
  },
  {
   "cell_type": "markdown",
   "metadata": {},
   "source": [
    "Diagram"
   ]
  },
  {
   "cell_type": "markdown",
   "metadata": {},
   "source": [
    "<img src=\"AWS_Framework/SageMaker/Step_Functions_&_CloudeWatch.jpg\">"
   ]
  },
  {
   "cell_type": "markdown",
   "metadata": {},
   "source": [
    "### Step Functions"
   ]
  },
  {
   "cell_type": "markdown",
   "metadata": {},
   "source": [
    "The step functions will provide the commands for invoking of re-training for the SageMaker machine learning. These functions consist of JSON code that connects the triggers time based events from CloudWatch to all the services within SageMaker. "
   ]
  },
  {
   "cell_type": "markdown",
   "metadata": {},
   "source": [
    "#### Main State Machine"
   ]
  },
  {
   "cell_type": "code",
   "execution_count": 2,
   "metadata": {},
   "outputs": [
    {
     "ename": "NameError",
     "evalue": "name 'number' is not defined",
     "output_type": "error",
     "traceback": [
      "\u001b[0;31m---------------------------------------------------------------------------\u001b[0m",
      "\u001b[0;31mNameError\u001b[0m                                 Traceback (most recent call last)",
      "\u001b[0;32m<ipython-input-2-a5a2d6ec3692>\u001b[0m in \u001b[0;36m<module>\u001b[0;34m\u001b[0m\n\u001b[1;32m      8\u001b[0m                \u001b[0;34m\"AnnotationConsolidationLambdaArn\"\u001b[0m\u001b[0;34m:\u001b[0m \u001b[0;34m\"string\"\u001b[0m\u001b[0;34m\u001b[0m\u001b[0;34m\u001b[0m\u001b[0m\n\u001b[1;32m      9\u001b[0m             },\n\u001b[0;32m---> 10\u001b[0;31m             \u001b[0;34m\"MaxConcurrentTaskCount\"\u001b[0m\u001b[0;34m:\u001b[0m \u001b[0mnumber\u001b[0m\u001b[0;34m,\u001b[0m\u001b[0;34m\u001b[0m\u001b[0;34m\u001b[0m\u001b[0m\n\u001b[0m\u001b[1;32m     11\u001b[0m             \u001b[0;34m\"NumberOfHumanWorkersPerDataObject\"\u001b[0m\u001b[0;34m:\u001b[0m \u001b[0mnumber\u001b[0m\u001b[0;34m,\u001b[0m\u001b[0;34m\u001b[0m\u001b[0;34m\u001b[0m\u001b[0m\n\u001b[1;32m     12\u001b[0m             \u001b[0;34m\"PreHumanTaskLambdaArn\"\u001b[0m\u001b[0;34m:\u001b[0m \u001b[0;34m\"string\"\u001b[0m\u001b[0;34m,\u001b[0m\u001b[0;34m\u001b[0m\u001b[0;34m\u001b[0m\u001b[0m\n",
      "\u001b[0;31mNameError\u001b[0m: name 'number' is not defined"
     ]
    }
   ],
   "source": [
    "{\n",
    "    \"Sagemaker CreateLabelingJob\": {\n",
    "      \"Type\": \"Task\",\n",
    "      \"Resource\": \"\",\n",
    "      \"Parameters\": {\n",
    "        \"HumanTaskConfig\": { \n",
    "            \"AnnotationConsolidationConfig\": { \n",
    "               \"AnnotationConsolidationLambdaArn\": \"string\"\n",
    "            },\n",
    "            \"MaxConcurrentTaskCount\": number,\n",
    "            \"NumberOfHumanWorkersPerDataObject\": number,\n",
    "            \"PreHumanTaskLambdaArn\": \"string\",\n",
    "            \"PublicWorkforceTaskPrice\": { \n",
    "               \"AmountInUsd\": { \n",
    "                  \"Cents\": number,\n",
    "                  \"Dollars\": number,\n",
    "                  \"TenthFractionsOfACent\": number\n",
    "               }\n",
    "            },\n",
    "            \"TaskAvailabilityLifetimeInSeconds\": number,\n",
    "            \"TaskDescription\": \"string\",\n",
    "            \"TaskKeywords\": [ \"string\" ],\n",
    "            \"TaskTimeLimitInSeconds\": number,\n",
    "            \"TaskTitle\": \"string\",\n",
    "            \"UiConfig\": { \n",
    "               \"UiTemplateS3Uri\": \"string\"\n",
    "            },\n",
    "            \"WorkteamArn\": \"string\"\n",
    "         },\n",
    "         \"InputConfig\": { \n",
    "            \"DataAttributes\": { \n",
    "               \"ContentClassifiers\": [ \"string\" ]\n",
    "            },\n",
    "            \"DataSource\": { \n",
    "               \"S3DataSource\": { \n",
    "                  \"ManifestS3Uri\": \"string\"\n",
    "               }\n",
    "            }\n",
    "         },\n",
    "         \"LabelAttributeName\": \"string\",\n",
    "         \"LabelCategoryConfigS3Uri\": \"string\",\n",
    "         \"LabelingJobAlgorithmsConfig\": { \n",
    "            \"InitialActiveLearningModelArn\": \"string\",\n",
    "            \"LabelingJobAlgorithmSpecificationArn\": \"string\",\n",
    "            \"LabelingJobResourceConfig\": { \n",
    "               \"VolumeKmsKeyId\": \"string\"\n",
    "            }\n",
    "         },\n",
    "         \"LabelingJobName\": \"string\",\n",
    "         \"OutputConfig\": { \n",
    "            \"KmsKeyId\": \"string\",\n",
    "            \"S3OutputPath\": \"string\"\n",
    "         },\n",
    "         \"RoleArn\": \"string\",\n",
    "         \"StoppingConditions\": { \n",
    "            \"MaxHumanLabeledObjectCount\": number,\n",
    "            \"MaxPercentageOfInputDatasetLabeled\": number\n",
    "         },\n",
    "         \"Tags\": [ \n",
    "            { \n",
    "               \"Key\": \"string\",\n",
    "               \"Value\": \"string\"\n",
    "            }\n",
    "         ]\n",
    "      },\n",
    "      \"Next\": \"SageMaker CreateTrainingJob\"\n",
    "    },\n",
    "    \"SageMaker CreateTrainingJob\": {\n",
    "      \"Type\": \"Task\",\n",
    "      \"Resource\": \"arn:aws:states:::sagemaker:createTransformJob.sync\",\n",
    "      \"Parameters\": {\n",
    "        \"AlgorithmSpecification\": { \n",
    "            \"AlgorithmName\": \"vwt_random_forest_test.001\",\n",
    "            \"MetricDefinitions\": [ \n",
    "               { \n",
    "                  \"Name\": \"string\",\n",
    "                  \"Regex\": \"string\"\n",
    "               }\n",
    "            ],\n",
    "            \"TrainingImage\": \"string\",\n",
    "            \"TrainingInputMode\": \"string\"\n",
    "         },\n",
    "         \"EnableInterContainerTrafficEncryption\": 1,\n",
    "         \"EnableNetworkIsolation\": 1,\n",
    "         \"HyperParameters\": { \n",
    "            \"no_trees\" : \"10\" \n",
    "         },\n",
    "         \"InputDataConfig\": [ \n",
    "            { \n",
    "               \"ChannelName\": \"string\",\n",
    "               \"CompressionType\": \"None\",\n",
    "               \"ContentType\": \"text/csv\",\n",
    "               \"DataSource\": { \n",
    "                  \"S3DataSource\": { \n",
    "                     \"AttributeNames\": [ \"string\" ],\n",
    "                     \"S3DataDistributionType\": \"string\",\n",
    "                     \"S3DataType\": \"S3Prefix\",\n",
    "                     \"S3Uri\": \"s3://vwt-data-bucket-test-001/TransformJobDataInput.txt\"\n",
    "                  }\n",
    "               },\n",
    "               \"InputMode\": \"string\",\n",
    "               \"RecordWrapperType\": \"string\",\n",
    "               \"ShuffleConfig\": { \n",
    "                  \"Seed\": 5\n",
    "               }\n",
    "            }\n",
    "         ],\n",
    "         \"OutputDataConfig\": { \n",
    "            \"KmsKeyId\": \"string\",\n",
    "            \"S3OutputPath\": \"s3://vwt-model-bucket-test-001/\"\n",
    "         },\n",
    "         \"ResourceConfig\": { \n",
    "            \"InstanceCount\": 1,\n",
    "            \"InstanceType\": \"ml.m4.xlarge\",\n",
    "            \"VolumeKmsKeyId\": \"string\",\n",
    "            \"VolumeSizeInGB\": 5\n",
    "         },\n",
    "         \"RoleArn\": \"vwt_role_test.001\",\n",
    "         \"StoppingCondition\": { \n",
    "            \"MaxRuntimeInSeconds\": 1000\n",
    "         },\n",
    "         \"Tags\": [ \n",
    "            { \n",
    "               \"Key\": \"string\",\n",
    "               \"Value\": \"string\"\n",
    "            }\n",
    "         ],\n",
    "         \"TrainingJobName\": \"vwt_retrain_test.001\",\n",
    "         \"VpcConfig\": { \n",
    "            \"SecurityGroupIds\": [ \"arn:aws:iam::386431343404:role/service-role/AmazonSageMaker-ExecutionRole-20181217T160105\" ],\n",
    "            \"Subnets\": [ \"string\" ]\n",
    "         }\n",
    "        },\n",
    "        \"Next\": \"SageMaker CreateHyperParameterTuningJob\"\n",
    "    },\n",
    "    \"SageMaker CreateHyperParameterTuningJob\": {\n",
    "      \"Type\": \"Task\",\n",
    "      \"Resource\": \"\",\n",
    "      \"Parameters\": {\n",
    "        \"HyperParameterTuningJobConfig\": { \n",
    "            \"HyperParameterTuningJobObjective\": { \n",
    "               \"MetricName\": \"string\",\n",
    "               \"Type\": \"string\"\n",
    "            },\n",
    "            \"ParameterRanges\": { \n",
    "               \"CategoricalParameterRanges\": [ \n",
    "                  { \n",
    "                     \"Name\": \"string\",\n",
    "                     \"Values\": [ \"string\" ]\n",
    "                  }\n",
    "               ],\n",
    "               \"ContinuousParameterRanges\": [ \n",
    "                  { \n",
    "                     \"MaxValue\": \"string\",\n",
    "                     \"MinValue\": \"string\",\n",
    "                     \"Name\": \"string\"\n",
    "                  }\n",
    "               ],\n",
    "               \"IntegerParameterRanges\": [ \n",
    "                  { \n",
    "                     \"MaxValue\": \"string\",\n",
    "                     \"MinValue\": \"string\",\n",
    "                     \"Name\": \"string\"\n",
    "                  }\n",
    "               ]\n",
    "            },\n",
    "            \"ResourceLimits\": { \n",
    "               \"MaxNumberOfTrainingJobs\": number,\n",
    "               \"MaxParallelTrainingJobs\": number\n",
    "            },\n",
    "            \"Strategy\": \"string\",\n",
    "            \"TrainingJobEarlyStoppingType\": \"string\"\n",
    "         },\n",
    "         \"HyperParameterTuningJobName\": \"string\",\n",
    "         \"Tags\": [ \n",
    "            { \n",
    "               \"Key\": \"string\",\n",
    "               \"Value\": \"string\"\n",
    "            }\n",
    "         ],\n",
    "         \"TrainingJobDefinition\": { \n",
    "            \"AlgorithmSpecification\": { \n",
    "               \"AlgorithmName\": \"string\",\n",
    "               \"MetricDefinitions\": [ \n",
    "                  { \n",
    "                     \"Name\": \"string\",\n",
    "                     \"Regex\": \"string\"\n",
    "                  }\n",
    "               ],\n",
    "               \"TrainingImage\": \"string\",\n",
    "               \"TrainingInputMode\": \"string\"\n",
    "            },\n",
    "            \"EnableInterContainerTrafficEncryption\": boolean,\n",
    "            \"EnableNetworkIsolation\": boolean,\n",
    "            \"InputDataConfig\": [ \n",
    "               { \n",
    "                  \"ChannelName\": \"string\",\n",
    "                  \"CompressionType\": \"string\",\n",
    "                  \"ContentType\": \"string\",\n",
    "                  \"DataSource\": { \n",
    "                     \"S3DataSource\": { \n",
    "                        \"AttributeNames\": [ \"string\" ],\n",
    "                        \"S3DataDistributionType\": \"string\",\n",
    "                        \"S3DataType\": \"string\",\n",
    "                        \"S3Uri\": \"string\"\n",
    "                     }\n",
    "                  },\n",
    "                  \"InputMode\": \"string\",\n",
    "                  \"RecordWrapperType\": \"string\",\n",
    "                  \"ShuffleConfig\": { \n",
    "                     \"Seed\": number\n",
    "                  }\n",
    "               }\n",
    "            ],\n",
    "            \"OutputDataConfig\": { \n",
    "               \"KmsKeyId\": \"string\",\n",
    "               \"S3OutputPath\": \"string\"\n",
    "            },\n",
    "            \"ResourceConfig\": { \n",
    "               \"InstanceCount\": number,\n",
    "               \"InstanceType\": \"string\",\n",
    "               \"VolumeKmsKeyId\": \"string\",\n",
    "               \"VolumeSizeInGB\": number\n",
    "            },\n",
    "            \"RoleArn\": \"string\",\n",
    "            \"StaticHyperParameters\": { \n",
    "               \"string\" : \"string\" \n",
    "            },\n",
    "            \"StoppingCondition\": { \n",
    "               \"MaxRuntimeInSeconds\": number\n",
    "            },\n",
    "            \"VpcConfig\": { \n",
    "               \"SecurityGroupIds\": [ \"string\" ],\n",
    "               \"Subnets\": [ \"string\" ]\n",
    "            }\n",
    "         },\n",
    "         \"WarmStartConfig\": { \n",
    "            \"ParentHyperParameterTuningJobs\": [ \n",
    "               { \n",
    "                  \"HyperParameterTuningJobName\": \"string\"\n",
    "               }\n",
    "            ],\n",
    "            \"WarmStartType\": \"string\"\n",
    "         }  \n",
    "        },\n",
    "      \"End\": true\n",
    "    }\n",
    "}"
   ]
  },
  {
   "cell_type": "markdown",
   "metadata": {},
   "source": [
    "### CloudWatch"
   ]
  },
  {
   "cell_type": "markdown",
   "metadata": {},
   "source": [
    "CloudWatch provides monitoring across the ML System. It provides the ability to trigger events based on custom metrics that the administrator wishes to flag. The admin will be able to check how the system is running in order to fix or update certain services. \n",
    "\n",
    "One of the requirements of the system is a time based event to be triggered by CloudWatch for re-training of new data over certain time horizons to be determined."
   ]
  },
  {
   "cell_type": "markdown",
   "metadata": {},
   "source": [
    "## After AWS"
   ]
  },
  {
   "cell_type": "markdown",
   "metadata": {},
   "source": [
    "Once the prediction is complete the result will be used differently depending on what was being predicted. For example, the prediction of a risk group for a user corresponding to problem gambling will be used differently to the prediction of how much a user will bet on a certain day.\n",
    "\n",
    "Below is a list of the different places a prediction will be sent to:\n",
    "\n",
    "- Intervention Model\n",
    "- Operator"
   ]
  },
  {
   "cell_type": "markdown",
   "metadata": {},
   "source": [
    "### Intervention Model"
   ]
  },
  {
   "cell_type": "markdown",
   "metadata": {},
   "source": [
    "The Intervention Model is a system that will use risk groups to put in place certain restrictions or other measures of prevention to the user. There will be a positive correlation between the risk score and the size of the restrictions that are enforced."
   ]
  },
  {
   "cell_type": "markdown",
   "metadata": {},
   "source": [
    "### Operator"
   ]
  },
  {
   "cell_type": "markdown",
   "metadata": {},
   "source": [
    "As part of the ML System Operators may recieve the predictions that are made on the data of users. An example of this may be where the machine learning model is predicting detailed insights of users that can be used for better marketing systems."
   ]
  },
  {
   "cell_type": "code",
   "execution_count": null,
   "metadata": {},
   "outputs": [],
   "source": []
  }
 ],
 "metadata": {
  "kernelspec": {
   "display_name": "Python 3",
   "language": "python",
   "name": "python3"
  },
  "language_info": {
   "codemirror_mode": {
    "name": "ipython",
    "version": 3
   },
   "file_extension": ".py",
   "mimetype": "text/x-python",
   "name": "python",
   "nbconvert_exporter": "python",
   "pygments_lexer": "ipython3",
   "version": "3.6.7"
  }
 },
 "nbformat": 4,
 "nbformat_minor": 2
}
